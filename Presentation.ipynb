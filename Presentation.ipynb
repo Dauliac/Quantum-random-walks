{
 "cells": [
  {
   "cell_type": "markdown",
   "metadata": {
    "id": "7zcj-vQjeSIG",
    "slideshow": {
     "slide_type": "slide"
    }
   },
   "source": [
    "# Quantum walks Université Bordeaux\n",
    "\n",
    "Dauliac julien\n",
    "<p align=\"center\">\n",
    "  <img width=\"460\" height=\"300\" src=\"./assets/img/Universite-Bordeaux.png\">\n",
    "</p>\n"
   ]
  },
  {
   "cell_type": "code",
   "execution_count": 219,
   "metadata": {
    "slideshow": {
     "slide_type": "skip"
    }
   },
   "outputs": [],
   "source": [
    "from rich import print\n",
    "\n",
    "import numpy as np\n",
    "from matplotlib import pyplot as plt\n",
    "import scipy\n",
    "import scipy.special"
   ]
  },
  {
   "cell_type": "markdown",
   "metadata": {
    "id": "3fQJ_NnLeSIL",
    "slideshow": {
     "slide_type": "slide"
    }
   },
   "source": [
    "# Table of content 📖\n",
    "\n",
    "- Classical Random walks and Markov chains\n",
    "- Quantum walks"
   ]
  },
  {
   "cell_type": "markdown",
   "metadata": {
    "id": "yaKGvbmieSIL",
    "slideshow": {
     "slide_type": "slide"
    }
   },
   "source": [
    "## Classical Random walks and Markov chains ⛓️\n",
    "\n",
    "Markov chains are a mathematical tool describing probabilistic dynamic systems.\n",
    "\n",
    "They play an important role in randomized algorithms\n",
    "\n",
    "<p align=\"center\">\n",
    "  <img width=\"420\" src=\"./assets/img/random_walk.gif\">\n",
    "</p>\n"
   ]
  },
  {
   "cell_type": "markdown",
   "metadata": {
    "id": "PJt5xHNEeSIM",
    "slideshow": {
     "slide_type": "slide"
    }
   },
   "source": [
    "## Let's walk 🚶‍♂️\n",
    "   \n",
    "We will simulate a random walk to observe these properties "
   ]
  },
  {
   "cell_type": "code",
   "execution_count": 220,
   "metadata": {
    "colab": {
     "base_uri": "https://localhost:8080/"
    },
    "id": "N2TQMpwkeSIH",
    "outputId": "c4102885-624a-4002-ba0f-8e82590408b6",
    "slideshow": {
     "slide_type": "fragment"
    }
   },
   "outputs": [],
   "source": [
    "import random # Our piece to choice walker direction\n",
    "\n",
    "steps_number = 50    # Defines the total number of steps our walker will take\n",
    "direction_probability = 0.5  # Defines the probability of our walker stepping to the right\n",
    "initial_position = 0     # Defines the initial position of our walker"
   ]
  },
  {
   "cell_type": "code",
   "execution_count": 221,
   "metadata": {
    "id": "JdHKQbHUeSIM",
    "slideshow": {
     "slide_type": "subslide"
    }
   },
   "outputs": [
    {
     "data": {
      "text/html": [
       "<pre style=\"white-space:pre;overflow-x:auto;line-height:normal;font-family:Menlo,'DejaVu Sans Mono',consolas,'Courier New',monospace\">The walker is located at: x = <span style=\"color: #008080; text-decoration-color: #008080; font-weight: bold\">10</span>\n",
       "</pre>\n"
      ],
      "text/plain": [
       "The walker is located at: x = \u001b[1;36m10\u001b[0m\n"
      ]
     },
     "metadata": {},
     "output_type": "display_data"
    }
   ],
   "source": [
    "def random_walk(direction_probability: float, steps_number: int, initial_position: int):\n",
    "    position = initial_position\n",
    "    # Repeatedly queries our random variable and moves our walker for the specified number of steps\n",
    "    for j in range(steps_number):\n",
    "        # Flips our coin\n",
    "        coin_flip = np.random.choice(2, 1, p=[1-direction_probability, direction_probability])[0]\n",
    "        position += 2*coin_flip-1 # Moves our walker according to the coin flip \n",
    "    \n",
    "    return position\n",
    "\n",
    "walker_position = random_walk(direction_probability, steps_number, initial_position)\n",
    "print(\"The walker is located at: x = {var}\".format(var = walker_position))"
   ]
  },
  {
   "cell_type": "markdown",
   "metadata": {
    "slideshow": {
     "slide_type": "subslide"
    }
   },
   "source": [
    "### Distribution 📊\n",
    "\n",
    "Let's display the distribution of our steps"
   ]
  },
  {
   "cell_type": "code",
   "execution_count": 222,
   "metadata": {
    "slideshow": {
     "slide_type": "skip"
    }
   },
   "outputs": [],
   "source": [
    "def dist(runs, steps_number, direction_probability: float, initial_position: int):\n",
    "    positions = range(-1*steps_number, steps_number+1)\n",
    "    instances = [0 for i in range(-1*steps_number, steps_number+1)]\n",
    "    for k in range(runs):\n",
    "        result = random_walk(direction_probability, steps_number, initial_position)\n",
    "        instances[positions.index(result)] += 1\n",
    "    plt.bar(positions, [n/runs for n in instances])\n",
    "    plt.show()"
   ]
  },
  {
   "cell_type": "code",
   "execution_count": 223,
   "metadata": {
    "id": "IGjuG7aaeSIQ",
    "slideshow": {
     "slide_type": "fragment"
    }
   },
   "outputs": [
    {
     "data": {
      "image/png": "[encoded data removed]",
      "text/plain": [
       "<Figure size 640x480 with 1 Axes>"
      ]
     },
     "metadata": {},
     "output_type": "display_data"
    }
   ],
   "source": [
    "dist(10000, steps_number, direction_probability, initial_position)"
   ]
  },
  {
   "cell_type": "markdown",
   "metadata": {
    "slideshow": {
     "slide_type": "notes"
    }
   },
   "source": [
    "Plus le temps sera long, plus la distribution, l'équart type sera large.\n"
   ]
  },
  {
   "cell_type": "markdown",
   "metadata": {
    "id": "OWD_r1PVeSIS",
    "slideshow": {
     "slide_type": "subslide"
    }
   },
   "source": [
    "### Comparison with the theory 🆚\n",
    "\n",
    "Our simulation look pretty binomial\n",
    "\n",
    "\n",
    "We can now plot the distribution predicted in the math, and see if the two are the same..."
   ]
  },
  {
   "cell_type": "markdown",
   "metadata": {
    "slideshow": {
     "slide_type": "subslide"
    }
   },
   "source": [
    "### Comparison with the theory 🆚"
   ]
  },
  {
   "cell_type": "code",
   "execution_count": 224,
   "metadata": {
    "id": "v_gPZiJAeSIT",
    "slideshow": {
     "slide_type": "fragment"
    }
   },
   "outputs": [],
   "source": [
    "def binomial_height(position: int, steps_number: int, direction_probability: float):\n",
    "    a = (steps_number + position)/2\n",
    "    b = (steps_number - position)/2\n",
    "    if (position%2 == 0):\n",
    "        result = scipy.special.binom(steps_number, a)*(direction_probability**a)*((1-direction_probability)**b)\n",
    "    else:\n",
    "        result = 0\n",
    "    return result"
   ]
  },
  {
   "cell_type": "markdown",
   "metadata": {
    "slideshow": {
     "slide_type": "subslide"
    }
   },
   "source": [
    "### Comparison with the theory 🆚"
   ]
  },
  {
   "cell_type": "code",
   "execution_count": 225,
   "metadata": {
    "slideshow": {
     "slide_type": "fragment"
    }
   },
   "outputs": [
    {
     "data": {
      "image/png": "[encoded data removed]",
      "text/plain": [
       "<Figure size 640x480 with 1 Axes>"
      ]
     },
     "metadata": {},
     "output_type": "display_data"
    }
   ],
   "source": [
    "positions = range(-1*steps_number, steps_number+1)\n",
    "heights = [binomial_height(\n",
    "    position, \n",
    "    steps_number,\n",
    "    direction_probability) for position in positions]\n",
    "plt.bar(positions, heights)\n",
    "plt.show()"
   ]
  },
  {
   "cell_type": "markdown",
   "metadata": {
    "id": "gDUJGnrueSIY",
    "slideshow": {
     "slide_type": "slide"
    }
   },
   "source": [
    "## Quantum walks ⚛️\n",
    "\n",
    "Quantum walks are random walks equivalent in quantic world.\n",
    "\n",
    "<p align=\"center\">\n",
    "  <img width=\"700\" src=\"./assets/img/forked-graph.png\">\n",
    "</p>\n",
    "\n"
   ]
  },
  {
   "cell_type": "markdown",
   "metadata": {
    "id": "_wnnbzjueSIY",
    "slideshow": {
     "slide_type": "subslide"
    }
   },
   "source": [
    "## Quantum walks ⚛️\n",
    "\n",
    "<p align=\"center\">\n",
    "  <img width=\"800\" src=\"./assets/img/schema3.png\">\n",
    "</p>"
   ]
  },
  {
   "cell_type": "markdown",
   "metadata": {
    "slideshow": {
     "slide_type": "notes"
    }
   },
   "source": [
    "The unobserved quantum walkers,\n",
    "not being in a defined state, move following an amplitude probability or \"simultaneously\" according to their statistical distribution to all possible next nodes:"
   ]
  },
  {
   "cell_type": "markdown",
   "metadata": {
    "slideshow": {
     "slide_type": "subslide"
    }
   },
   "source": [
    "### Quantum walks applications\n",
    "- Random walks discrete 📊\n",
    "- Random walks continuous 📈\n",
    "- Search algorithm 🔍\n",
    "- Physical simulations 🔬\n",
    "- Finance 💰"
   ]
  },
  {
   "cell_type": "markdown",
   "metadata": {
    "id": "_wnnbzjueSIY",
    "slideshow": {
     "slide_type": "subslide"
    }
   },
   "source": [
    "### Quantum walks complexity\n",
    "\n",
    "Normal world:\n",
    "$$ cost_c = O(\\frac{1}{n}) $$\n",
    "\n",
    "Quantic world:\n",
    "$$ cost_q =  O(\\frac{1}{\\sqrt{n}})$$\n"
   ]
  },
  {
   "cell_type": "markdown",
   "metadata": {
    "slideshow": {
     "slide_type": "slide"
    }
   },
   "source": [
    "## Let's quantum walk ⚛️\n",
    "\n",
    "<p align=\"center\">\n",
    "  <img width=\"600\" src=\"./assets/img/schema1-bis.png\">\n",
    "</p>"
   ]
  },
  {
   "cell_type": "markdown",
   "metadata": {
    "id": "cVLaX59jeSIf",
    "slideshow": {
     "slide_type": "subslide"
    }
   },
   "source": [
    "## Let's quantum walk ⚛️\n"
   ]
  },
  {
   "cell_type": "code",
   "execution_count": 226,
   "metadata": {
    "id": "RkBMqo70eSIZ",
    "slideshow": {
     "slide_type": "fragment"
    }
   },
   "outputs": [
    {
     "data": {
      "text/html": [
       "<pre style=\"white-space:pre;overflow-x:auto;line-height:normal;font-family:Menlo,'DejaVu Sans Mono',consolas,'Courier New',monospace\"><span style=\"font-weight: bold\">[</span>\n",
       "    <span style=\"color: #800080; text-decoration-color: #800080; font-weight: bold\">cirq.GridQubit</span><span style=\"font-weight: bold\">(</span><span style=\"color: #008080; text-decoration-color: #008080; font-weight: bold\">0</span>, <span style=\"color: #008080; text-decoration-color: #008080; font-weight: bold\">0</span><span style=\"font-weight: bold\">)</span>,\n",
       "    <span style=\"color: #800080; text-decoration-color: #800080; font-weight: bold\">cirq.GridQubit</span><span style=\"font-weight: bold\">(</span><span style=\"color: #008080; text-decoration-color: #008080; font-weight: bold\">0</span>, <span style=\"color: #008080; text-decoration-color: #008080; font-weight: bold\">1</span><span style=\"font-weight: bold\">)</span>,\n",
       "    <span style=\"color: #800080; text-decoration-color: #800080; font-weight: bold\">cirq.GridQubit</span><span style=\"font-weight: bold\">(</span><span style=\"color: #008080; text-decoration-color: #008080; font-weight: bold\">0</span>, <span style=\"color: #008080; text-decoration-color: #008080; font-weight: bold\">2</span><span style=\"font-weight: bold\">)</span>,\n",
       "    <span style=\"color: #800080; text-decoration-color: #800080; font-weight: bold\">cirq.GridQubit</span><span style=\"font-weight: bold\">(</span><span style=\"color: #008080; text-decoration-color: #008080; font-weight: bold\">0</span>, <span style=\"color: #008080; text-decoration-color: #008080; font-weight: bold\">3</span><span style=\"font-weight: bold\">)</span>,\n",
       "    <span style=\"color: #800080; text-decoration-color: #800080; font-weight: bold\">cirq.GridQubit</span><span style=\"font-weight: bold\">(</span><span style=\"color: #008080; text-decoration-color: #008080; font-weight: bold\">0</span>, <span style=\"color: #008080; text-decoration-color: #008080; font-weight: bold\">4</span><span style=\"font-weight: bold\">)</span>,\n",
       "    <span style=\"color: #800080; text-decoration-color: #800080; font-weight: bold\">cirq.GridQubit</span><span style=\"font-weight: bold\">(</span><span style=\"color: #008080; text-decoration-color: #008080; font-weight: bold\">0</span>, <span style=\"color: #008080; text-decoration-color: #008080; font-weight: bold\">5</span><span style=\"font-weight: bold\">)</span>,\n",
       "    <span style=\"color: #800080; text-decoration-color: #800080; font-weight: bold\">cirq.GridQubit</span><span style=\"font-weight: bold\">(</span><span style=\"color: #008080; text-decoration-color: #008080; font-weight: bold\">0</span>, <span style=\"color: #008080; text-decoration-color: #008080; font-weight: bold\">6</span><span style=\"font-weight: bold\">)</span>\n",
       "<span style=\"font-weight: bold\">]</span>\n",
       "</pre>\n"
      ],
      "text/plain": [
       "\u001b[1m[\u001b[0m\n",
       "    \u001b[1;35mcirq.GridQubit\u001b[0m\u001b[1m(\u001b[0m\u001b[1;36m0\u001b[0m, \u001b[1;36m0\u001b[0m\u001b[1m)\u001b[0m,\n",
       "    \u001b[1;35mcirq.GridQubit\u001b[0m\u001b[1m(\u001b[0m\u001b[1;36m0\u001b[0m, \u001b[1;36m1\u001b[0m\u001b[1m)\u001b[0m,\n",
       "    \u001b[1;35mcirq.GridQubit\u001b[0m\u001b[1m(\u001b[0m\u001b[1;36m0\u001b[0m, \u001b[1;36m2\u001b[0m\u001b[1m)\u001b[0m,\n",
       "    \u001b[1;35mcirq.GridQubit\u001b[0m\u001b[1m(\u001b[0m\u001b[1;36m0\u001b[0m, \u001b[1;36m3\u001b[0m\u001b[1m)\u001b[0m,\n",
       "    \u001b[1;35mcirq.GridQubit\u001b[0m\u001b[1m(\u001b[0m\u001b[1;36m0\u001b[0m, \u001b[1;36m4\u001b[0m\u001b[1m)\u001b[0m,\n",
       "    \u001b[1;35mcirq.GridQubit\u001b[0m\u001b[1m(\u001b[0m\u001b[1;36m0\u001b[0m, \u001b[1;36m5\u001b[0m\u001b[1m)\u001b[0m,\n",
       "    \u001b[1;35mcirq.GridQubit\u001b[0m\u001b[1m(\u001b[0m\u001b[1;36m0\u001b[0m, \u001b[1;36m6\u001b[0m\u001b[1m)\u001b[0m\n",
       "\u001b[1m]\u001b[0m\n"
      ]
     },
     "metadata": {},
     "output_type": "display_data"
    }
   ],
   "source": [
    "# Qbits simulation\n",
    "import cirq\n",
    "\n",
    "number_qubits = 7\n",
    "qubits = cirq.GridQubit.rect(1, number_qubits)\n",
    "\n",
    "print(qubits)"
   ]
  },
  {
   "cell_type": "markdown",
   "metadata": {
    "id": "7O7H2NaDeSIb",
    "slideshow": {
     "slide_type": "subslide"
    }
   },
   "source": [
    "### Initialisation\n",
    "- 🚶 is almost central central position (qbit 0)\n",
    "- 🪙 is in $\\lvert\\downarrow\\rangle$ state *( $\\lvert1\\rangle$ )*\n"
   ]
  },
  {
   "cell_type": "code",
   "execution_count": 227,
   "metadata": {
    "id": "HFrIjhl7eSIb",
    "slideshow": {
     "slide_type": "fragment"
    }
   },
   "outputs": [],
   "source": [
    "def initial_state():\n",
    "    # Initalize🚶 position using the Pauli X gate.\n",
    "    yield cirq.X.on(cirq.GridQubit(0, 1))\n",
    "    # Initalize🪙 in |⬇️> state using the Pauli X gate.\n",
    "    yield cirq.X.on(cirq.GridQubit(0, number_qubits))"
   ]
  },
  {
   "cell_type": "markdown",
   "metadata": {
    "slideshow": {
     "slide_type": "subslide"
    }
   },
   "source": [
    "### Our operators 👷‍♂️\n",
    "\n",
    "```python\n",
    "def walk_step():\n",
    "    ...\n",
    "```\n",
    "\n",
    "<img width=\"750\" src=\"./assets/img/schema2.png\">"
   ]
  },
  {
   "cell_type": "code",
   "execution_count": 228,
   "metadata": {
    "id": "W6R9A4Y8eSIf",
    "slideshow": {
     "slide_type": "skip"
    }
   },
   "outputs": [],
   "source": [
    "def walk_step():\n",
    "    # Flip the 🪙\n",
    "    yield cirq.H.on(cirq.GridQubit(0, number_qubits))\n",
    "\n",
    "    # 🚶➕ Implement the Addition Operator \n",
    "    yield cirq.X.on(cirq.GridQubit(0, number_qubits))\n",
    "\n",
    "    for i in range(number_qubits, 0, -1):\n",
    "        controls = [cirq.GridQubit(0, v) for v in range(number_qubits, i-1, -1)]\n",
    "        yield cirq.X.on(cirq.GridQubit(0, i-1)).controlled_by(*controls)\n",
    "        if (i > 1):\n",
    "            yield cirq.X.on(cirq.GridQubit(0, i-1))\n",
    "\n",
    "    yield cirq.X.on(cirq.GridQubit(0, number_qubits))\n",
    "\n",
    "    #🚶➖ Implement the Substraction Operator\n",
    "    for i in range(1, number_qubits+1):\n",
    "        controls = [cirq.GridQubit(0, v) for v in range(number_qubits, i-1, -1)]\n",
    "        yield cirq.X.on(cirq.GridQubit(0, i-1)).controlled_by(*controls)\n",
    "        if (i < number_qubits):\n",
    "            yield cirq.X.on(cirq.GridQubit(0, i))"
   ]
  },
  {
   "cell_type": "code",
   "execution_count": 229,
   "metadata": {
    "slideshow": {
     "slide_type": "skip"
    }
   },
   "outputs": [],
   "source": [
    "def generate_walk(number_qubits: int, iterator:int , sample_number: int):\n",
    "    circuit = cirq.Circuit()\n",
    "\n",
    "    circuit.append(initial_state())\n",
    "    for j in range(iterator):\n",
    "        circuit.append(walk_step())\n",
    "    circuit.append(cirq.measure(*qubits, key='x'))\n",
    "\n",
    "    simulator = cirq.Simulator()\n",
    "    result = simulator.run(circuit, repetitions=sample_number)\n",
    "    final = result.histogram(key='x')\n",
    "\n",
    "    return final"
   ]
  },
  {
   "cell_type": "markdown",
   "metadata": {
    "slideshow": {
     "slide_type": "subslide"
    }
   },
   "source": [
    "### Run our walker 🏃‍♂️ "
   ]
  },
  {
   "cell_type": "code",
   "execution_count": 230,
   "metadata": {
    "id": "pNUx1-cieSIi",
    "slideshow": {
     "slide_type": "fragment"
    }
   },
   "outputs": [],
   "source": [
    "number_qubits = 7\n",
    "iterator = 30\n",
    "sample_number = 5000\n",
    "\n",
    "\n",
    "final = generate_walk(number_qubits, iterator, sample_number)"
   ]
  },
  {
   "cell_type": "code",
   "execution_count": 231,
   "metadata": {
    "slideshow": {
     "slide_type": "skip"
    }
   },
   "outputs": [],
   "source": [
    "def graph(final):\n",
    "\n",
    "    x_arr = list(final.keys())\n",
    "    y_arr = [dict(final)[j] for j in dict(final).keys()]\n",
    "\n",
    "    x_arr_final = []\n",
    "    y_arr_final = []\n",
    "\n",
    "    while (len(x_arr) > 0):\n",
    "\n",
    "        x_arr_final.append(min(x_arr))\n",
    "        y_arr_final.append(y_arr[x_arr.index(min(x_arr))])\n",
    "        holder = x_arr.index(min(x_arr))\n",
    "        del x_arr[holder]\n",
    "        del y_arr[holder]\n",
    "\n",
    "    plt.plot(x_arr_final, y_arr_final)\n",
    "    plt.scatter(x_arr_final, y_arr_final)\n",
    "    plt.show()"
   ]
  },
  {
   "cell_type": "markdown",
   "metadata": {
    "id": "3GYt1GCSeSIk",
    "slideshow": {
     "slide_type": "subslide"
    }
   },
   "source": [
    "### Results"
   ]
  },
  {
   "cell_type": "code",
   "execution_count": 232,
   "metadata": {
    "id": "XwsurJaAeSIl",
    "slideshow": {
     "slide_type": "fragment"
    }
   },
   "outputs": [
    {
     "data": {
      "image/png": "[encoded data removed]",
      "text/plain": [
       "<Figure size 640x480 with 1 Axes>"
      ]
     },
     "metadata": {},
     "output_type": "display_data"
    }
   ],
   "source": [
    "graph(final)"
   ]
  },
  {
   "cell_type": "markdown",
   "metadata": {
    "slideshow": {
     "slide_type": "subslide"
    }
   },
   "source": [
    "### Results\n",
    "If we invert 🪙 state:\n",
    "- 🚶 is almost central central position (qbit 0)\n",
    "- 🪙 is in $\\lvert\\downarrow\\rangle$ state *( $\\lvert1\\rangle$ )*"
   ]
  },
  {
   "cell_type": "markdown",
   "metadata": {
    "slideshow": {
     "slide_type": "subslide"
    }
   },
   "source": [
    "### Results"
   ]
  },
  {
   "cell_type": "code",
   "execution_count": 233,
   "metadata": {
    "id": "NKqY4j44eSIm",
    "slideshow": {
     "slide_type": "fragment"
    }
   },
   "outputs": [
    {
     "data": {
      "image/png": "[encoded data removed]",
      "text/plain": [
       "<Figure size 640x480 with 1 Axes>"
      ]
     },
     "metadata": {},
     "output_type": "display_data"
    }
   ],
   "source": [
    "# Override initial state\n",
    "def initial_state():\n",
    "    # Initalize🚶 position using the Pauli X gate.\n",
    "    yield cirq.X.on(cirq.GridQubit(0, 1))\n",
    "    # Keep 🪙 in |⬆️> state using the Pauli X gate.\n",
    "    #yield cirq.X.on(cirq.GridQubit(0, number_qubits))\n",
    "    \n",
    "final = generate_walk(number_qubits, iterator, sample_number)\n",
    "graph(final)"
   ]
  },
  {
   "cell_type": "markdown",
   "metadata": {
    "id": "d6ImWP9LeSIn",
    "slideshow": {
     "slide_type": "subslide"
    }
   },
   "source": [
    "### Interferences 🔀 \n",
    "Depends on inital 🪙 state  $\\lvert\\downarrow\\rangle$ or  $\\lvert\\uparrow\\rangle$\n",
    "<img width=\"900\" src=\"./assets/img/schema4.png\">"
   ]
  },
  {
   "cell_type": "markdown",
   "metadata": {
    "id": "fGTIGB55eSIo",
    "slideshow": {
     "slide_type": "subslide"
    }
   },
   "source": [
    "### Without biaises ↕️\n",
    "\n",
    "We will set our initial state to:\n",
    "\n",
    "\n",
    "$$|i\\rangle \\ = \\ \\frac{|\\uparrow\\rangle \\ + \\ i|\\downarrow\\rangle}{\\sqrt{2}}$$\n",
    "\n",
    "\n",
    "This is implemented by applying a Hadamard gate to $|\\uparrow\\rangle$, and then applying an $S$ gate to \n",
    "the qubit."
   ]
  },
  {
   "cell_type": "markdown",
   "metadata": {
    "slideshow": {
     "slide_type": "subslide"
    }
   },
   "source": [
    "### Without biaises ↕️"
   ]
  },
  {
   "cell_type": "code",
   "execution_count": 236,
   "metadata": {
    "id": "s71ObhP6eSIp",
    "slideshow": {
     "slide_type": "fragment"
    }
   },
   "outputs": [
    {
     "data": {
      "image/png": "[encoded data removed]",
      "text/plain": [
       "<Figure size 640x480 with 1 Axes>"
      ]
     },
     "metadata": {},
     "output_type": "display_data"
    }
   ],
   "source": [
    "def initial_state():\n",
    "  # Initalize🚶 position using the Pauli X gate.\n",
    "    yield cirq.X.on(cirq.GridQubit(0, 1))\n",
    "    # Set 🪙 in |↕️> state.\n",
    "    yield cirq.H.on(cirq.GridQubit(0, number_qubits)) # Hadamar gate\n",
    "    yield cirq.S.on(cirq.GridQubit(0, number_qubits)) # S gate\n",
    "# Re-compute results\n",
    "final = generate_walk(number_qubits, iterator, sample_number)\n",
    "graph(final)"
   ]
  },
  {
   "cell_type": "markdown",
   "metadata": {
    "slideshow": {
     "slide_type": "subslide"
    }
   },
   "source": [
    "### Cost and speed 💸\n",
    "\n",
    "- $\\sigma$ is the standard deviation\n",
    "- $T$ is the number of time steps\n",
    "\n",
    "In the case of a classical random walk, we can observe $\\sigma^2 \\sim T$ where .\n",
    "\n",
    "In the case of a quantum walk $\\sigma^2 \\sim \\ T^2$."
   ]
  },
  {
   "cell_type": "markdown",
   "metadata": {
    "slideshow": {
     "slide_type": "notes"
    }
   },
   "source": [
    "\n",
    "Cela signifie que l'écart-type dans le cas d'un marcheur quantique croît quadratiquement plus vite.\n",
    "\n",
    "Le marcheur quantique explore, s'étend quadratiquement plus vite que le marcheur classique."
   ]
  },
  {
   "cell_type": "markdown",
   "metadata": {
    "slideshow": {
     "slide_type": "slide"
    }
   },
   "source": [
    "\n",
    "<p align=\"center\">\n",
    "  <img width=\"900\" src=\"./assets/img/thank_you.gif\n",
    "\">\n",
    "</p>\n",
    "\n"
   ]
  },
  {
   "cell_type": "markdown",
   "metadata": {
    "id": "iYH3gwEvOqvX",
    "slideshow": {
     "slide_type": "slide"
    }
   },
   "source": [
    "## References\n",
    "[sources](https://github.com/Dauliac/Quantum-random-walks)\n",
    "\n",
    "[forked from](https://quantumai.google/cirq/experiments/quantum_walks)\n",
    "\n",
    "Filled with content of [this document](https://www.overleaf.com/read/gtdyjkykkprn)"
   ]
  }
 ],
 "metadata": {
  "celltoolbar": "Slideshow",
  "colab": {
   "include_colab_link": true,
   "provenance": [],
   "toc_visible": true
  },
  "kernelspec": {
   "display_name": "Python 3 (ipykernel)",
   "language": "python",
   "name": "python3"
  },
  "language_info": {
   "codemirror_mode": {
    "name": "ipython",
    "version": 3
   },
   "file_extension": ".py",
   "mimetype": "text/x-python",
   "name": "python",
   "nbconvert_exporter": "python",
   "pygments_lexer": "ipython3",
   "version": "3.10.6"
  }
 },
 "nbformat": 4,
 "nbformat_minor": 4
}
